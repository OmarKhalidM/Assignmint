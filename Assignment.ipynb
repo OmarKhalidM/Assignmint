{
 "cells": [
  {
   "cell_type": "markdown",
   "id": "1e4b87df-33b4-4f92-abd7-58aec6ad82bd",
   "metadata": {},
   "source": [
    "Implement Fibonacci series using recursion "
   ]
  },
  {
   "cell_type": "code",
   "execution_count": 1,
   "id": "ee1d9e6a-16d7-48e1-a13e-ab2235e23fa9",
   "metadata": {},
   "outputs": [
    {
     "name": "stdin",
     "output_type": "stream",
     "text": [
      "Enter number of terms: 6\n"
     ]
    },
    {
     "name": "stdout",
     "output_type": "stream",
     "text": [
      "Fibonacci sequence:\n",
      "0,1,1,2,3,5,"
     ]
    }
   ],
   "source": [
    "def fibonacci(n): # n = numpre of indexs in the list\n",
    "    if(n <= 1):\n",
    "        return n\n",
    "    else:\n",
    "        return(fibonacci(n-1) + fibonacci(n-2)) # recall the finctinon \n",
    "n = int(input(\"Enter number of terms:\"))\n",
    "print(\"Fibonacci sequence:\")\n",
    "for i in range(n):\n",
    "    print(fibonacci(i), end=\",\")"
   ]
  },
  {
   "cell_type": "markdown",
   "id": "fa02511a-c2e8-4f62-88bc-ad9aec83abee",
   "metadata": {},
   "source": [
    "Write a function that will take a given string and reverse the order of the words"
   ]
  },
  {
   "cell_type": "code",
   "execution_count": 2,
   "id": "67d80190-3b83-452d-a522-d663c8ebbbfe",
   "metadata": {},
   "outputs": [
    {
     "name": "stdin",
     "output_type": "stream",
     "text": [
      "enter the string:\n",
      " Omar Khalid Mahmmoud\n"
     ]
    },
    {
     "data": {
      "text/plain": [
       "['Mahmmoud', 'Khalid', 'Omar']"
      ]
     },
     "execution_count": 2,
     "metadata": {},
     "output_type": "execute_result"
    }
   ],
   "source": [
    "def revers(string):\n",
    "    s = string.split()[::-1]\n",
    "    l = []\n",
    "    for i in s:\n",
    "        l.append(i)\n",
    "    return l\n",
    "x=input('enter the string:\\n')\n",
    "l=revers(x)\n",
    "# print(\" \".join(l)) to con catinat the words\n",
    "l"
   ]
  },
  {
   "cell_type": "markdown",
   "id": "5724dcb2-8ba0-43ca-9ece-c7e8b80d6903",
   "metadata": {},
   "source": [
    " Write a function, primeNumberDetector, that tests if a number, n is a prime num"
   ]
  },
  {
   "cell_type": "code",
   "execution_count": 16,
   "id": "3f83a5dd-4613-4fa6-8c62-85d4e79e6188",
   "metadata": {},
   "outputs": [
    {
     "name": "stdin",
     "output_type": "stream",
     "text": [
      "enter number to check :\n",
      " 7\n"
     ]
    },
    {
     "name": "stdout",
     "output_type": "stream",
     "text": [
      "this is prime number :\n",
      "\n"
     ]
    },
    {
     "data": {
      "text/plain": [
       "7"
      ]
     },
     "execution_count": 16,
     "metadata": {},
     "output_type": "execute_result"
    }
   ],
   "source": [
    "def prime(num):\n",
    "    for i in range (2,num):\n",
    "        if num%i == 0 : # then the number culed divid on other number\n",
    "            print (\"not prime :\\n\") \n",
    "        else:  # then it's not only it self\n",
    "            print (\"this is prime number :\\n\")\n",
    "        return num\n",
    "check_num=int(input(\"enter number to check :\\n\"))\n",
    "prime(check_num)"
   ]
  },
  {
   "cell_type": "markdown",
   "id": "e2240cf2-371e-4e4b-9908-352dc2a15d0f",
   "metadata": {},
   "source": [
    "Given an integer x, return true if x is a palindrome, and false otherwise."
   ]
  },
  {
   "cell_type": "code",
   "execution_count": 19,
   "id": "cd80e459-1d60-4080-a1e6-d18796b024dd",
   "metadata": {},
   "outputs": [
    {
     "name": "stdin",
     "output_type": "stream",
     "text": [
      " 223353322\n"
     ]
    },
    {
     "name": "stdout",
     "output_type": "stream",
     "text": [
      "True\n"
     ]
    }
   ],
   "source": [
    "x=input()\n",
    "\n",
    "index1=0; index2=len(x)-1\n",
    "flage=True\n",
    "for i in range(int(len(x)/2)):\n",
    "\n",
    "    if x[index1]==x[index2]:\n",
    "        pass  \n",
    "    else :\n",
    "        flage=False\n",
    "        break\n",
    "    index1+=1\n",
    "    index2-=1        \n",
    "print(flage)"
   ]
  },
  {
   "cell_type": "code",
   "execution_count": null,
   "id": "2426bf63-2759-4166-b47d-d0dd21769b38",
   "metadata": {},
   "outputs": [],
   "source": []
  }
 ],
 "metadata": {
  "kernelspec": {
   "display_name": "Python 3 (ipykernel)",
   "language": "python",
   "name": "python3"
  },
  "language_info": {
   "codemirror_mode": {
    "name": "ipython",
    "version": 3
   },
   "file_extension": ".py",
   "mimetype": "text/x-python",
   "name": "python",
   "nbconvert_exporter": "python",
   "pygments_lexer": "ipython3",
   "version": "3.9.13"
  }
 },
 "nbformat": 4,
 "nbformat_minor": 5
}
